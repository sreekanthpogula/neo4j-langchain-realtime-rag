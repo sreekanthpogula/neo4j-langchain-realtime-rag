{
 "cells": [
  {
   "cell_type": "markdown",
   "id": "3469f0ca",
   "metadata": {},
   "source": [
    "# Neo4j RAG Pipeline with LangChain"
   ]
  },
  {
   "cell_type": "code",
   "execution_count": null,
   "id": "9d425113",
   "metadata": {},
   "outputs": [],
   "source": [
    "pip install wikipedia"
   ]
  },
  {
   "cell_type": "code",
   "execution_count": null,
   "id": "7ee075b9",
   "metadata": {},
   "outputs": [],
   "source": [
    "!pip install --quiet langchain langchain-community langchain-neo4j langchain-openai langchain-experimental "
   ]
  },
  {
   "cell_type": "code",
   "execution_count": null,
   "id": "6cf76edc",
   "metadata": {},
   "outputs": [],
   "source": [
    "import os\n",
    "from dotenv import load_dotenv\n",
    "\n",
    "# Load environment variables from .env file\n",
    "load_dotenv()\n",
    "\n",
    "os.environ[\"NEO4J_URI\"] = os.getenv(\"NEO4J_URI\")\n",
    "os.environ[\"NEO4J_USERNAME\"] = os.getenv(\"NEO4J_USERNAME\")\n",
    "os.environ[\"NEO4J_PASSWORD\"] = os.getenv(\"NEO4J_PASSWORD\")\n",
    "os.environ[\"NEO4J_DATABASE\"] = os.getenv(\"NEO4J_DATABASE\")\n",
    "os.environ[\"AURA_INSTANCEID\"] = os.getenv(\"AURA_INSTANCEID\")\n",
    "os.environ[\"AURA_INSTANCENAME\"] = os.getenv(\"AURA_INSTANCENAME\")\n",
    "os.environ[\"OPENAI_API_KEY\"] = os.getenv(\"OPENAI_API_KEY\")"
   ]
  },
  {
   "cell_type": "code",
   "execution_count": null,
   "id": "1aeef1c0",
   "metadata": {},
   "outputs": [],
   "source": [
    "from langchain.graphs import Neo4jGraph\n",
    "\n",
    "\n",
    "graph = Neo4jGraph()"
   ]
  },
  {
   "cell_type": "code",
   "execution_count": null,
   "id": "8afd945f",
   "metadata": {},
   "outputs": [],
   "source": [
    "from langchain.document_loaders import WikipediaLoader\n",
    "raw_documents = WikipediaLoader(query=\"Elizabeth I\").load()\n",
    "raw_documents"
   ]
  },
  {
   "cell_type": "code",
   "execution_count": null,
   "id": "65aeadde",
   "metadata": {},
   "outputs": [],
   "source": [
    "from langchain.text_splitter import TokenTextSplitter\n",
    "text_splitter = TokenTextSplitter(chunk_size=1000, chunk_overlap=200)\n",
    "documents = text_splitter.split_documents(raw_documents[:3])"
   ]
  },
  {
   "cell_type": "code",
   "execution_count": null,
   "id": "a392c05d",
   "metadata": {},
   "outputs": [],
   "source": [
    "documents\n",
    "\n",
    "from langchain_community.llms import Ollama\n",
    "llm = Ollama(model=\"llama2\")"
   ]
  },
  {
   "cell_type": "code",
   "execution_count": null,
   "id": "788b23c9",
   "metadata": {},
   "outputs": [],
   "source": [
    "from langchain_experimental.graph_transformers import LLMGraphTransformer\n",
    "llm_graph_transformer = LLMGraphTransformer(llm=llm)"
   ]
  },
  {
   "cell_type": "code",
   "execution_count": null,
   "id": "78178dbb",
   "metadata": {},
   "outputs": [],
   "source": [
    "graph_documents = llm_graph_transformer.convert_to_graph_documents(documents)"
   ]
  },
  {
   "cell_type": "code",
   "execution_count": null,
   "id": "1c390771",
   "metadata": {},
   "outputs": [],
   "source": [
    "graph_documents"
   ]
  },
  {
   "cell_type": "code",
   "execution_count": null,
   "id": "43321474",
   "metadata": {},
   "outputs": [],
   "source": [
    "graph.add_graph_documents(graph_documents,\n",
    "                          baseEntityLabel=True,\n",
    "                          include_source=True)"
   ]
  },
  {
   "cell_type": "code",
   "execution_count": null,
   "id": "f7a3ad01",
   "metadata": {},
   "outputs": [],
   "source": [
    "default_cipher = \"MATCH (s)-[r:!Mentions]->(e) RETURN s, r, e LIMIT 50\""
   ]
  },
  {
   "cell_type": "code",
   "execution_count": null,
   "id": "abdb59b9",
   "metadata": {},
   "outputs": [],
   "source": [
    "import os\n",
    "from neo4j import GraphDatabase\n",
    "from pyvis.network import Network\n",
    "from dotenv import load_dotenv\n",
    "\n",
    "load_dotenv()  # Optional: Load .env file if needed\n",
    "\n",
    "def show_graph(cypher: str):\n",
    "    # Connect to Neo4j\n",
    "    driver = GraphDatabase.driver(\n",
    "        uri=os.getenv(\"NEO4J_URI\"),\n",
    "        auth=(os.getenv(\"NEO4J_USERNAME\"), os.getenv(\"NEO4J_PASSWORD\"))\n",
    "    )\n",
    "    session = driver.session()\n",
    "    result = session.run(cypher)\n",
    "\n",
    "    # Initialize node & edge containers\n",
    "    nodes = {}\n",
    "    edges = []\n",
    "\n",
    "    # Parse result\n",
    "    for record in result:\n",
    "        for val in record.values():\n",
    "            if hasattr(val, 'nodes') and hasattr(val, 'relationships'):  # Path object\n",
    "                for node in val.nodes:\n",
    "                    node_id = str(node.id)\n",
    "                    node_label = list(node.labels)[0] if node.labels else \"Node\"\n",
    "                    node_name = node.get(\"name\", node_label)\n",
    "                    nodes[node_id] = {\n",
    "                        \"label\": node_name,\n",
    "                        \"title\": f\"{node_label}<br>{dict(node)}\"\n",
    "                    }\n",
    "                for rel in val.relationships:\n",
    "                    edges.append({\n",
    "                        \"from\": str(rel.start_node.id),\n",
    "                        \"to\": str(rel.end_node.id),\n",
    "                        \"label\": rel.type\n",
    "                    })\n",
    "\n",
    "    # Create Pyvis network\n",
    "    net = Network(notebook=False, height=\"600px\", width=\"100%\", bgcolor=\"#ffffff\", font_color=\"black\")\n",
    "    net.force_atlas_2based()\n",
    "\n",
    "    # Add nodes\n",
    "    for node_id, data in nodes.items():\n",
    "        net.add_node(node_id, label=data[\"label\"], title=data[\"title\"])\n",
    "\n",
    "    # Add edges\n",
    "    for edge in edges:\n",
    "        net.add_edge(edge[\"from\"], edge[\"to\"], label=edge[\"label\"])\n",
    "\n",
    "    session.close()\n",
    "    driver.close()\n",
    "\n",
    "    # Save and display\n",
    "    net.show(\"graph.html\")\n"
   ]
  },
  {
   "cell_type": "code",
   "execution_count": null,
   "id": "7b939829",
   "metadata": {},
   "outputs": [],
   "source": [
    "show_graph(\"MATCH p=(a)-[r]->(b) RETURN p LIMIT 25\")\n"
   ]
  },
  {
   "cell_type": "code",
   "execution_count": null,
   "id": "2a390517",
   "metadata": {},
   "outputs": [],
   "source": [
    "pip install pyvis\n"
   ]
  }
 ],
 "metadata": {
  "kernelspec": {
   "display_name": "3.11.9",
   "language": "python",
   "name": "python3"
  },
  "language_info": {
   "codemirror_mode": {
    "name": "ipython",
    "version": 3
   },
   "file_extension": ".py",
   "mimetype": "text/x-python",
   "name": "python",
   "nbconvert_exporter": "python",
   "pygments_lexer": "ipython3",
   "version": "3.11.9"
  }
 },
 "nbformat": 4,
 "nbformat_minor": 5
}
